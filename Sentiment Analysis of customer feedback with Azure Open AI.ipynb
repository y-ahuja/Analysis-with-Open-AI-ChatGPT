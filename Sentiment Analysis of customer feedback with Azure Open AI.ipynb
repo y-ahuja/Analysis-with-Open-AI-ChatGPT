{
 "cells": [
  {
   "cell_type": "code",
   "execution_count": 2,
   "metadata": {},
   "outputs": [
    {
     "name": "stdout",
     "output_type": "stream",
     "text": [
      "Sending a test completion job\n",
      "how are u \n",
      "I'm doing great, thanks for asking!\n"
     ]
    }
   ],
   "source": [
    "import os\n",
    "import requests\n",
    "import json\n",
    "import openai\n",
    "import openpyxl\n",
    "import pandas as pd\n",
    "import spacy\n",
    "from spacy.lang.en import English\n",
    "\n",
    "openai.api_key = \"Your API key\"\n",
    "openai.api_base =  \"https://YOUR_RESOURCE_NAME.openai.azure.com/\" # your endpoint should look like the following https://YOUR_RESOURCE_NAME.openai.azure.com/\n",
    "openai.api_type = 'azure'\n",
    "openai.api_version = '2022-12-01' # this may change in the future\n",
    "deployment_name='YOUR API DEPLOYMENT NAME' #This will correspond to the custom name you chose for your deployment when you deployed a model. \n",
    "\n",
    "# Send a completion call to generate an answer\n",
    "print('Sending a test completion job')\n",
    "start_phrase = 'how are u \\n'\n",
    "response = openai.Completion.create(engine=deployment_name, prompt=start_phrase, max_tokens=10)\n",
    "text = response['choices'][0]['text'].replace('\\n', '').replace(' .', '.').strip()\n",
    "print(start_phrase+text) "
   ]
  },
  {
   "cell_type": "code",
   "execution_count": 3,
   "metadata": {},
   "outputs": [
    {
     "name": "stdout",
     "output_type": "stream",
     "text": [
      "                                          Review Title  \\\n",
      "0         Another Midrange killer Smartphone by Xiaomi   \n",
      "1                                vry small size mobile   \n",
      "2         Full display not working in all application.   \n",
      "3                                      Value for Money   \n",
      "4                              Not worth for the money   \n",
      "..                                                 ...   \n",
      "275  Cemera quality,face unlock most important in t...   \n",
      "276                                   Mi is best phone   \n",
      "277                                     Its a OK Phone   \n",
      "278                                              Redmi   \n",
      "279                           Not worth for the price.   \n",
      "\n",
      "                Customer name              Rating                  Date  \\\n",
      "0           Rishikumar Thakur  4.0 out of 5 stars     on 1 October 2018   \n",
      "1                     Raza ji  3.0 out of 5 stars  on 15 September 2018   \n",
      "2               Vaibhav Patel  3.0 out of 5 stars  on 18 September 2018   \n",
      "3             Amazon Customer  5.0 out of 5 stars  on 28 September 2018   \n",
      "4    Sudhakaran Wadakkancheri  2.0 out of 5 stars  on 18 September 2018   \n",
      "..                        ...                 ...                   ...   \n",
      "275                     Rahul  5.0 out of 5 stars  on 19 September 2018   \n",
      "276                Sunil Soni  4.0 out of 5 stars  on 18 September 2018   \n",
      "277                 D.C.Padhi  3.0 out of 5 stars  on 15 September 2018   \n",
      "278                    Mahesh  5.0 out of 5 stars  on 21 September 2018   \n",
      "279                     Vinod  1.0 out of 5 stars  on 17 September 2018   \n",
      "\n",
      "    Category                                           Comments  \\\n",
      "0    Display  Another Midrange killer Smartphone by Xiaomi\\n...   \n",
      "1     Others                   All ok but vry small size mobile   \n",
      "2     Others                                         Quite good   \n",
      "3    Display  Redmi has always have been the the king of bud...   \n",
      "4     Others  worst product from MI. I am a hardcore fan of ...   \n",
      "..       ...                                                ...   \n",
      "275   Others  I like This Phone, Awesome look and design.\\nI...   \n",
      "276   Others  Product is avasome but invoice is note include...   \n",
      "277  Battery  Redmi Note4, Note5, now 6pro..It seems the old...   \n",
      "278   Others                                          I love mi   \n",
      "279   Camera  Same old configurations with higher price.\\nNo...   \n",
      "\n",
      "                          Useful  \n",
      "0                                 \n",
      "1    7 people found this helpful  \n",
      "2    7 people found this helpful  \n",
      "3    2 people found this helpful  \n",
      "4    6 people found this helpful  \n",
      "..                           ...  \n",
      "275                          NaN  \n",
      "276                          NaN  \n",
      "277                          NaN  \n",
      "278                          NaN  \n",
      "279                          NaN  \n",
      "\n",
      "[280 rows x 7 columns]\n"
     ]
    }
   ],
   "source": [
    "# read csv\n",
    "df = pd.read_csv(r'E:\\Analysis With Azure Open AI - Chat GPT\\input.csv')\n",
    "print(df)"
   ]
  },
  {
   "cell_type": "code",
   "execution_count": 4,
   "metadata": {},
   "outputs": [
    {
     "data": {
      "text/plain": [
       "<bound method DataFrame.drop_duplicates of                                           Review Title  \\\n",
       "0         Another Midrange killer Smartphone by Xiaomi   \n",
       "1                                vry small size mobile   \n",
       "2         Full display not working in all application.   \n",
       "3                                      Value for Money   \n",
       "4                              Not worth for the money   \n",
       "..                                                 ...   \n",
       "275  Cemera quality,face unlock most important in t...   \n",
       "276                                   Mi is best phone   \n",
       "277                                     Its a OK Phone   \n",
       "278                                              Redmi   \n",
       "279                           Not worth for the price.   \n",
       "\n",
       "                Customer name              Rating                  Date  \\\n",
       "0           Rishikumar Thakur  4.0 out of 5 stars     on 1 October 2018   \n",
       "1                     Raza ji  3.0 out of 5 stars  on 15 September 2018   \n",
       "2               Vaibhav Patel  3.0 out of 5 stars  on 18 September 2018   \n",
       "3             Amazon Customer  5.0 out of 5 stars  on 28 September 2018   \n",
       "4    Sudhakaran Wadakkancheri  2.0 out of 5 stars  on 18 September 2018   \n",
       "..                        ...                 ...                   ...   \n",
       "275                     Rahul  5.0 out of 5 stars  on 19 September 2018   \n",
       "276                Sunil Soni  4.0 out of 5 stars  on 18 September 2018   \n",
       "277                 D.C.Padhi  3.0 out of 5 stars  on 15 September 2018   \n",
       "278                    Mahesh  5.0 out of 5 stars  on 21 September 2018   \n",
       "279                     Vinod  1.0 out of 5 stars  on 17 September 2018   \n",
       "\n",
       "    Category                                           Comments  \\\n",
       "0    Display  Another Midrange killer Smartphone by Xiaomi\\n...   \n",
       "1     Others                   All ok but vry small size mobile   \n",
       "2     Others                                         Quite good   \n",
       "3    Display  Redmi has always have been the the king of bud...   \n",
       "4     Others  worst product from MI. I am a hardcore fan of ...   \n",
       "..       ...                                                ...   \n",
       "275   Others  I like This Phone, Awesome look and design.\\nI...   \n",
       "276   Others  Product is avasome but invoice is note include...   \n",
       "277  Battery  Redmi Note4, Note5, now 6pro..It seems the old...   \n",
       "278   Others                                          I love mi   \n",
       "279   Camera  Same old configurations with higher price.\\nNo...   \n",
       "\n",
       "                          Useful  \n",
       "0                                 \n",
       "1    7 people found this helpful  \n",
       "2    7 people found this helpful  \n",
       "3    2 people found this helpful  \n",
       "4    6 people found this helpful  \n",
       "..                           ...  \n",
       "275                          NaN  \n",
       "276                          NaN  \n",
       "277                          NaN  \n",
       "278                          NaN  \n",
       "279                          NaN  \n",
       "\n",
       "[280 rows x 7 columns]>"
      ]
     },
     "execution_count": 4,
     "metadata": {},
     "output_type": "execute_result"
    }
   ],
   "source": [
    "df.drop_duplicates"
   ]
  },
  {
   "cell_type": "code",
   "execution_count": 12,
   "metadata": {},
   "outputs": [],
   "source": [
    "#Sentiment_for_each_comment\n",
    "def CommentReview(comments):\n",
    "    completions=openai.Completion.create(\n",
    "        engine=deployment_name,\n",
    "        prompt=(f\"what type of comment - {comments} it is negative, positive or neutral?\"),\n",
    "        max_tokens=20\n",
    "    )\n",
    "    message=completions['choices'][0]['text'].replace('\\n', '').replace(' .', '.').strip()\n",
    "    return message\n",
    "\n",
    "cols = ['Category', 'Comments', 'ReviewType']\n",
    "df2 = pd.DataFrame(columns=cols)\n",
    "Sentiment_for_each_comment = pd.DataFrame(columns=cols)\n",
    "\n",
    "for ind in df.index:\n",
    "    cat = df['Category'][ind]\n",
    "    com = df['Comments'][ind]\n",
    "    df_new_row = pd.DataFrame({'Category': df['Category'][ind], 'Comments':df['Comments'][ind], 'ReviewType': CommentReview(df['Comments'][ind])}, index=[0])\n",
    "    Sentiment_for_each_comment = pd.concat([Sentiment_for_each_comment, df_new_row])\n",
    "    "
   ]
  },
  {
   "cell_type": "code",
   "execution_count": 13,
   "metadata": {},
   "outputs": [
    {
     "data": {
      "text/html": [
       "<div>\n",
       "<style scoped>\n",
       "    .dataframe tbody tr th:only-of-type {\n",
       "        vertical-align: middle;\n",
       "    }\n",
       "\n",
       "    .dataframe tbody tr th {\n",
       "        vertical-align: top;\n",
       "    }\n",
       "\n",
       "    .dataframe thead th {\n",
       "        text-align: right;\n",
       "    }\n",
       "</style>\n",
       "<table border=\"1\" class=\"dataframe\">\n",
       "  <thead>\n",
       "    <tr style=\"text-align: right;\">\n",
       "      <th></th>\n",
       "      <th>Category</th>\n",
       "      <th>Aggregated_Comments</th>\n",
       "    </tr>\n",
       "  </thead>\n",
       "  <tbody>\n",
       "    <tr>\n",
       "      <th>0</th>\n",
       "      <td>Battery</td>\n",
       "      <td>Thanks alot Amazon,ecom &amp; seller.perfect produ...</td>\n",
       "    </tr>\n",
       "    <tr>\n",
       "      <th>1</th>\n",
       "      <td>Camera</td>\n",
       "      <td>Front camera is poor rest things are good Fron...</td>\n",
       "    </tr>\n",
       "    <tr>\n",
       "      <th>2</th>\n",
       "      <td>Delivery</td>\n",
       "      <td>Nice product. Delivery guy also. Nice product....</td>\n",
       "    </tr>\n",
       "    <tr>\n",
       "      <th>3</th>\n",
       "      <td>Display</td>\n",
       "      <td>Another Midrange killer Smartphone by Xiaomi\\n...</td>\n",
       "    </tr>\n",
       "    <tr>\n",
       "      <th>4</th>\n",
       "      <td>Others</td>\n",
       "      <td>All ok but vry small size mobile Quite good wo...</td>\n",
       "    </tr>\n",
       "  </tbody>\n",
       "</table>\n",
       "</div>"
      ],
      "text/plain": [
       "   Category                                Aggregated_Comments\n",
       "0   Battery  Thanks alot Amazon,ecom & seller.perfect produ...\n",
       "1    Camera  Front camera is poor rest things are good Fron...\n",
       "2  Delivery  Nice product. Delivery guy also. Nice product....\n",
       "3   Display  Another Midrange killer Smartphone by Xiaomi\\n...\n",
       "4    Others  All ok but vry small size mobile Quite good wo..."
      ]
     },
     "execution_count": 13,
     "metadata": {},
     "output_type": "execute_result"
    }
   ],
   "source": [
    "df_grouped = df.groupby(\"Category\")[\"Comments\"].apply(\" \".join).reset_index()\n",
    "df_grouped = df_grouped.rename(columns={\"Comments\": \"Aggregated_Comments\"})\n",
    "df_grouped"
   ]
  },
  {
   "cell_type": "code",
   "execution_count": 14,
   "metadata": {
    "tags": [
     "Category wise Comments Summarization"
    ]
   },
   "outputs": [
    {
     "name": "stdout",
     "output_type": "stream",
     "text": [
      "Category wise Summarization of comments:\n",
      "Battery :\n",
      "The Xiaomi 6 Pro is a decent mobile phone that offers a slim design, good sound quality, light weight, and good battery back-up, however there are some battery and charging problems, lagging, hanging, and other issues. Older models provide features such as length of USB cable and front flash that the Pro does not, leading to customers having slightly lower expectations when compared to the price for the 3GB/32GB version.\n",
      "Camera :\n",
      "This phone has unsatisfactory camera quality and an aged processor, along with some satisfactory features such as facial recognition and battery life. Unfortunately, its premium price tag is not justified with its low-quality cameras and poor design.\n",
      "Delivery :\n",
      "This customer was pleased with the quality of the product, the level of power, Amazon's prompt delivery, and value for money. However, they were disappointed that a charger was not included and that delivery was late.\n",
      "Display :\n",
      "This product has many advantages including a good display, fast processing speed, and a large battery; however, the camera is of average quality, being a dual camera setup.\n",
      "Others :\n",
      "This consumer had a largely positive experience with this phone, which featured a transparent back cover, good battery life, and a duplicate behavior. It did come with some issues, like data and wifi connectivity, heating, not supporting two jio sims, being bulky, having an inadequate return policy, and not including the invoice. They recommended the Realme 2 instead.\n"
     ]
    }
   ],
   "source": [
    "#category wise summariszation of comments\n",
    "\n",
    "nlp = spacy.load(\"en_core_web_sm\")\n",
    "\n",
    "def text_to_chunks(text):\n",
    "  chunks = [[]]\n",
    "  chunk_total_words = 0\n",
    "\n",
    "  sentences = nlp(text)\n",
    "\n",
    "  for sentence in sentences.sents:\n",
    "    chunk_total_words += len(sentence.text.split(\" \"))\n",
    "\n",
    "    if chunk_total_words > 1000:\n",
    "      chunks.append([])\n",
    "      chunk_total_words = len(sentence.text.split(\" \"))\n",
    "\n",
    "    chunks[len(chunks)-1].append(sentence.text)\n",
    "  \n",
    "  return chunks\n",
    "\n",
    "def Comment_category(Comments):\n",
    "    completions=openai.Completion.create(\n",
    "        engine=deployment_name,\n",
    "        prompt=(f\"Give Summariaztion for the following comments:{Comments}\"),\n",
    "        max_tokens=200\n",
    "    )\n",
    "    message=completions['choices'][0]['text'].replace('\\n', '').replace(' .', '.').strip()\n",
    "    return message\n",
    "\n",
    "print(\"Category wise Summarization of comments:\")\n",
    "\n",
    "cols = ['Category','Summarized Comment']\n",
    "summariszation_of_comments = pd.DataFrame(columns=cols)\n",
    "\n",
    "for ind in df_grouped.index:\n",
    "    cat = df_grouped['Category'][ind]\n",
    "    com = df_grouped['Aggregated_Comments'][ind]\n",
    "    chunks = text_to_chunks(com)\n",
    "    for chunk in chunks:\n",
    "      chunk_summaries = []\n",
    "      chunk_summary = Comment_category(\" \".join(chunk))\n",
    "      chunk_summaries.append(chunk_summary)\n",
    "    summary = \" \".join(chunk_summaries)\n",
    "    print(df_grouped['Category'][ind], \":\"+\"\\n\"+Comment_category(summary), end=\"\\n\")\n",
    "    df_new_row = pd.DataFrame({'Category': df['Category'][ind], 'Summarized Comment': Comment_category(summary)}, index=[0])\n",
    "    summariszation_of_comments = pd.concat([summariszation_of_comments, df_new_row])"
   ]
  },
  {
   "cell_type": "code",
   "execution_count": 22,
   "metadata": {},
   "outputs": [
    {
     "name": "stderr",
     "output_type": "stream",
     "text": [
      "C:\\Users\\Yatin\\AppData\\Local\\Temp\\ipykernel_15220\\2252963973.py:5: FutureWarning: Setting the `book` attribute is not part of the public API, usage can give unexpected or corrupted results and will be removed in a future version\n",
      "  writer.book = workbook\n",
      "C:\\Users\\Yatin\\AppData\\Local\\Temp\\ipykernel_15220\\2252963973.py:12: FutureWarning: save is not part of the public API, usage can give unexpected results and will be removed in a future version\n",
      "  writer.save()\n"
     ]
    },
    {
     "name": "stdout",
     "output_type": "stream",
     "text": [
      "DataFrame is written to Excel File successfully.\n"
     ]
    }
   ],
   "source": [
    "file_name = 'output.xlsx'\n",
    "# Load the workbook\n",
    "writer = pd.ExcelWriter('output.xlsx', engine='openpyxl') \n",
    "workbook = openpyxl.Workbook()\n",
    "writer.book = workbook\n",
    "\n",
    "# Write the DataFrame to a new sheet\n",
    "Sentiment_for_each_comment.to_excel(writer, index=False, sheet_name='Sentiment for each comment')\n",
    "summariszation_of_comments.to_excel(writer, index=False, sheet_name='summariszation of comments')\n",
    "\n",
    "# Save the workbook\n",
    "writer.save()\n",
    "print('DataFrame is written to Excel File successfully.')"
   ]
  }
 ],
 "metadata": {
  "kernelspec": {
   "display_name": "Python 3",
   "language": "python",
   "name": "python3"
  },
  "language_info": {
   "codemirror_mode": {
    "name": "ipython",
    "version": 3
   },
   "file_extension": ".py",
   "mimetype": "text/x-python",
   "name": "python",
   "nbconvert_exporter": "python",
   "pygments_lexer": "ipython3",
   "version": "3.10.6"
  },
  "orig_nbformat": 4,
  "vscode": {
   "interpreter": {
    "hash": "369f2c481f4da34e4445cda3fffd2e751bd1c4d706f27375911949ba6bb62e1c"
   }
  }
 },
 "nbformat": 4,
 "nbformat_minor": 2
}
